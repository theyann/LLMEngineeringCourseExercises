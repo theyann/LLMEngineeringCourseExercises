{
 "cells": [
  {
   "cell_type": "code",
   "id": "initial_id",
   "metadata": {
    "collapsed": true,
    "ExecuteTime": {
     "end_time": "2025-03-12T16:00:23.269654Z",
     "start_time": "2025-03-12T16:00:04.207793Z"
    }
   },
   "source": [
    "from IPython.display import Markdown, display\n",
    "\n",
    "from brochure import BrochureGenerator\n",
    "from communication import OpenAIWrapper, AssistantType, MultiAssistantTypes\n",
    "\n",
    "openai = OpenAIWrapper(model='gpt-4o-mini')\n",
    "\n",
    "generator = BrochureGenerator(\n",
    "    company_name = \"Hugging Face\",\n",
    "    url = \"https://huggingface.co/\",\n",
    "    client=openai,\n",
    "    types=MultiAssistantTypes([AssistantType.SNARKY, AssistantType.ANGRY])\n",
    ")\n",
    "\n",
    "display(Markdown(generator.generate()))\n"
   ],
   "outputs": [
    {
     "data": {
      "text/plain": [
       "<IPython.core.display.Markdown object>"
      ],
      "text/markdown": "# Hugging Face Brochure\n\n## Welcome to the Hugging Face Circus 🎪\n\nSo, you’ve stumbled upon Hugging Face—the self-proclaimed \"AI community building the future.\" They’ve gathered a gaggle of machine learning enthusiasts, developers, and probably too many caffeine-fueled techies who think they can save the world one model at a time.\n\n## What They Offer (Because Who Doesn't Love a Good Appendage) \n\n- **Over 1 Million Models**: Yes, you read that right. A million! And they’re not just gathering dust; they’re being updated frequently, because who needs stability in machine learning, right? \n- **AI Datasets Galore**: They have 250,000 datasets, making it a playground for wannabe data scientists and seasoned pros alike. You can play with anything from natural reasoning to medical reasoning data, which is comforting... or terrifying, depending on your perspective.\n- **Spaces**: Not to be confused with outer space; these are environments for demos and applications. You can browse, create, or laugh at generative music tools because why not?\n\n## Enterprise Solutions (Because Your Startup Needs an Escape Plan)\n\nPerfect for those nostalgic about corporate life. They offer top-tier support and security for over 50,000 enterprises. Is your organization slapping cash on the table? They have affordable options starting at $20/user/month. But hey, who wouldn't want to be an enterprise-level user of AI? \n\n## Customer Types (You’re in Good Company)\n\nJoin the ranks of luminaries like Google, Microsoft, Amazon, and other buzzword-heavy companies. Just imagine the coffee breaks you might share—if those companies even have coffee breaks. No guarantees that you won't just stare into the abyss of endless models and datasets, though.\n\n- **Companies**: As if they want to typecast themselves as just a sidekick to corporate giants.\n- **Non-profits**: Yes, they’re here too, probably hoping to run machine learning on a budget while saving the world.\n\n## Company Culture (Disclaimer: Don’t Expect Warm Fuzzies)\n\nHugging Face claims to be a community, which usually means untold social drama and debates over the 'best' ML algorithms. Expect to collaborate, code, and occasionally argue passionately over the merits of using JAX vs. TensorFlow. \n\n### Perks of Joining the Meltdown\n\n- Open-source efforts galore! Can it be a spectacle? Absolutely. Everyone loves free stuff until they have to troubleshoot nightly builds.\n- Be part of a “team” that churns out cutting-edge ML technology while being generous with snarky memes.\n\n## Careers at Hugging Face (If You Dare)\n\nIf you're looking to dive into this chaotic carnival of AI, they are hiring! Exact positions are a mystery, but you're likely to find something appealing if you can tolerate relentless staring into screens filled with code.\n\n### Why Join?\n\nFeeling brave enough to mingle with some of the brightest (or maybe just the loudest)? Expect high stakes and multiple cups of coffee—or else you might just start seeing sparkles in your model outputs.\n\n## Conclusion (The Icing on the Cake)\n\nSo, if you’re itching to be a part of the “next big thing” in AI (or just want to see how far machine learning can be dragged), Hugging Face is where it’s at. Just remember, while they build the future, they might just laugh at your attempts to do the same. Better polish those skills and brace for impact: the future isn’t going to build itself!\n\n--- \n\nReach out or visit their chaotic online domain: [Hugging Face](https://huggingface.co) and remember—aim for the stars and maybe you'll land on a model or two!"
     },
     "metadata": {},
     "output_type": "display_data"
    }
   ],
   "execution_count": 4
  },
  {
   "metadata": {},
   "cell_type": "code",
   "source": "",
   "id": "aaa342df5320cd1a",
   "outputs": [],
   "execution_count": null
  },
  {
   "metadata": {},
   "cell_type": "code",
   "source": "",
   "id": "513081daec79b08c",
   "outputs": [],
   "execution_count": null
  }
 ],
 "metadata": {
  "kernelspec": {
   "display_name": "Python 3",
   "language": "python",
   "name": "python3"
  },
  "language_info": {
   "codemirror_mode": {
    "name": "ipython",
    "version": 2
   },
   "file_extension": ".py",
   "mimetype": "text/x-python",
   "name": "python",
   "nbconvert_exporter": "python",
   "pygments_lexer": "ipython2",
   "version": "2.7.6"
  }
 },
 "nbformat": 4,
 "nbformat_minor": 5
}
