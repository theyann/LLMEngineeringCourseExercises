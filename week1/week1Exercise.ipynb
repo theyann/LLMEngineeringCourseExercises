{
 "cells": [
  {
   "metadata": {
    "ExecuteTime": {
     "end_time": "2025-03-12T16:04:09.218330Z",
     "start_time": "2025-03-12T16:04:01.637772Z"
    }
   },
   "cell_type": "code",
   "source": [
    "from communication import Messages, CodeExplanationMessages, OpenAIWrapper, AssistantType, MultiAssistantTypes\n",
    "\n",
    "openai = OpenAIWrapper(model='gpt-4o-mini')\n",
    "local = OpenAIWrapper(url='http://localhost:11434/v1', model='llama3.2')\n",
    "\n",
    "message = Messages(\n",
    "    system=\"You are assistant that keeps on trying to respond with witty answers.\",\n",
    "    user=\"\"\"\n",
    "        Please explain what this code does and why:\n",
    "        yield from {book.get(\"author\") for book in books if book.get(\"author\")}\n",
    "    \"\"\",\n",
    "    stream=True,\n",
    "    assistant_types=MultiAssistantTypes([AssistantType.SNARKY, AssistantType.ANGRY])\n",
    ")\n",
    "\n",
    "code_message = CodeExplanationMessages(\n",
    "    code=\"\"\"\n",
    "        yield from {book.get(\"author\") for book in books if book.get(\"author\")}\n",
    "    \"\"\",\n",
    "    additional_system_directives=\"Be snarky, sarcastic and try to respond with witty and funny answers.\",\n",
    "    stream = True,\n",
    "    assistant_types=MultiAssistantTypes([AssistantType.COMEDIAN, AssistantType.EXCITED])\n",
    ")\n",
    "\n",
    "openai.display(code_message)\n",
    "# print(\"####################\")\n",
    "# print(\"####################\")\n",
    "#local.display(message)\n",
    "\n",
    "#print(message.to_messages())\n",
    "\n"
   ],
   "id": "f0b4e5917f0f58f7",
   "outputs": [
    {
     "data": {
      "text/plain": [
       "<IPython.core.display.Markdown object>"
      ],
      "text/markdown": "Well, well, well! Look what we have here—a slice of Python elegance wrapped in a beautiful, logical package! Or is it just an elaborate way to make a fancy fruit salad? Let’s dive in!\n\n### What this code does:\n\n1. **Yield statement**: You have a `yield from`—because apparently just plain old `return` wasn't dramatic enough. This little gem says, “I’m too cool for just returning one thing; I’ll yield over multiple values and act like a generator.” So it’s basically a friendly way of saying, “Here, take some of these!” But, you know, without the awkwardness of sharing food at a buffet.\n\n2. **Set comprehension**: Next, we have a set comprehension here: `{book.get(\"author\") for book in books if book.get(\"author\")}`. This operation is like cleaning house—taking in a collection of books and extracting the authors, but only if they exist. Makes sense, right? I mean, who needs to waste time with books that forgot to list their authors? It's like a wedding without a couple. Just awkward.\n\n3. **Filtering**: The `if book.get(\"author\")` ensures that only books with an actual author get included. Because no one wants to end up with a collection of “unknown” authors, right? That’s like having a dinner party and only serving mystery meat—\"Guess who made it! No one! Enjoy!\"\n\n### Why this code exists:\n\nThe purpose of this code seems to be collecting unique authors from a list of books while simultaneously avoiding any awkward author-less books. If there's one thing we love, it's getting unique items without duplicates! Thanks, set, you're the real MVP here. \n\n### Notable patterns and techniques:\n\n- **Generative brilliance**: By using `yield from`, it essentially allows for smooth iterator magic. You can be fancy without all the unnecessary clutter of using `return` with lists. Who knew being elegant could be so easy?\n  \n- **Set Comprehension**: This is Python’s way of making sure you don’t create a weary and long-forgotten list of duplicate authors. Sets keep things tidy! Imagine a sock drawer; would you really want two left socks? Nah, let’s keep things interesting!\n\nIn conclusion, this little snippet is a sleek, efficient way of procuring the names of authors from a pile of books, only pulling the ones that actually came with names attached. It's like a VIP guest list—no mysteriously nameless authors allowed! Bravo, code, bravo! 🎉"
     },
     "metadata": {},
     "output_type": "display_data"
    }
   ],
   "execution_count": 2
  },
  {
   "metadata": {},
   "cell_type": "code",
   "source": "",
   "id": "d074a6128c7ae4a8",
   "outputs": [],
   "execution_count": null
  },
  {
   "metadata": {},
   "cell_type": "code",
   "source": "",
   "id": "683022c7f5bbc996",
   "outputs": [],
   "execution_count": null
  }
 ],
 "metadata": {
  "kernelspec": {
   "display_name": "Python 3",
   "language": "python",
   "name": "python3"
  },
  "language_info": {
   "codemirror_mode": {
    "name": "ipython",
    "version": 2
   },
   "file_extension": ".py",
   "mimetype": "text/x-python",
   "name": "python",
   "nbconvert_exporter": "python",
   "pygments_lexer": "ipython2",
   "version": "2.7.6"
  }
 },
 "nbformat": 4,
 "nbformat_minor": 5
}
