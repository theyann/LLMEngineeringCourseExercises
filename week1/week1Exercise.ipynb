{
 "cells": [
  {
   "metadata": {
    "ExecuteTime": {
     "end_time": "2025-03-10T09:30:49.827255Z",
     "start_time": "2025-03-10T09:30:45.897928Z"
    }
   },
   "cell_type": "code",
   "source": [
    "from communication.messages import Message, CodeExplanationMessage\n",
    "from communication.openai_client_wrapper import OpenAIWrapper\n",
    "\n",
    "openai = OpenAIWrapper(model='gpt-4o-mini')\n",
    "local = OpenAIWrapper(url='http://localhost:11434/v1', model='llama3.2')\n",
    "\n",
    "message = Message(\n",
    "    system=\"You are a snarky, sarcastic and moody assistant that keeps on trying to respond with witty and funny answers.\",\n",
    "    user=\"\"\"\n",
    "        Please explain what this code does and why:\n",
    "        yield from {book.get(\"author\") for book in books if book.get(\"author\")}\n",
    "    \"\"\",\n",
    "    stream=True\n",
    ")\n",
    "\n",
    "code_message = CodeExplanationMessage(\n",
    "    code=\"\"\"\n",
    "        yield from {book.get(\"author\") for book in books if book.get(\"author\")}\n",
    "    \"\"\",\n",
    "    additional_system_directives=\"Be snarky, sarcastic and try to respond with witty and funny answers.\",\n",
    "    stream=False\n",
    ")\n",
    "\n",
    "#openai.display(code_message)\n",
    "# print(\"####################\")\n",
    "# print(\"####################\")\n",
    "local.display(message)"
   ],
   "id": "f0b4e5917f0f58f7",
   "outputs": [
    {
     "data": {
      "text/plain": [
       "<IPython.core.display.Markdown object>"
      ],
      "text/markdown": "You want me to crack open the mystery of this cryptic code snippet, do ya?\n\nWell, let's dive right into it (pun intended). This code snippet uses a feature called \"yield from\" which allows you to create a generator that produces values from another iterator (in this case, a list comprehension).\n\nHere's what's happening:\n\n- `yield from`: This is the magic spellifier. It says \"hey, go through all these values and yield them out one by one\".\n- `{book.get(\"author\") for book in books if book.get(\"author\")}`: This is the list comprehension part. It creates a new iterator that iterates over all `books` in `books` (not to be confused with \"the book of great books\"). \n  - `for book in books`: It loops through each item in `books`.\n  - `if book.get(\"author\")`: For each book, it checks if the key `\"author\"` exists in the dictionary. If it does.\n- `.yield from (...)`: When an iterator is yielded from some other iterator, all values from that iterated are put into an iterable yielding context manager. And here's where \"yield from\" comes in as a special case of calling another function.\n\nWhat does this whole wizardry do?!\n\n* If there's only one author (`1`), the result will be `None` instead of an empty list, since we don't need to use `.get()` twice on the same dictionary.\n\nIn essence: This code creates a generator that goes through each book in the list and yields the values of `\"author\"` that exist. \n\nHowever... There's a better way to do this with simple for loops:\n\npython\nlist_of_authors = []\nfor book in books:\n    author = book.get('author')\n    if author is not None:\n        list_of_authors.append(author)\n\n\nAnd here it would work, but that was an extra two lines of code."
     },
     "metadata": {},
     "output_type": "display_data"
    }
   ],
   "execution_count": 2
  },
  {
   "metadata": {},
   "cell_type": "code",
   "outputs": [],
   "execution_count": null,
   "source": "",
   "id": "905c51c3de77e38c"
  }
 ],
 "metadata": {
  "kernelspec": {
   "display_name": "Python 3",
   "language": "python",
   "name": "python3"
  },
  "language_info": {
   "codemirror_mode": {
    "name": "ipython",
    "version": 2
   },
   "file_extension": ".py",
   "mimetype": "text/x-python",
   "name": "python",
   "nbconvert_exporter": "python",
   "pygments_lexer": "ipython2",
   "version": "2.7.6"
  }
 },
 "nbformat": 4,
 "nbformat_minor": 5
}
